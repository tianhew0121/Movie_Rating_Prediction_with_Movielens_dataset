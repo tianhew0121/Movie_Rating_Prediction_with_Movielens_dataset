{
 "cells": [
  {
   "attachments": {},
   "cell_type": "markdown",
   "metadata": {},
   "source": [
    "# Movie Dataset Data inspection and preprocessing"
   ]
  },
  {
   "cell_type": "code",
   "execution_count": 31,
   "metadata": {},
   "outputs": [],
   "source": [
    "import numpy as np\n",
    "import pandas as pd\n",
    "\n",
    "# Read in the data\n",
    "# Because the ultimate goal of our project is to build a system which predict the revenue of non-released movies, \n",
    "# we propose that the revenue is likely to be related to the case, genere, production company, and the release date of the movie.\n",
    "# In the rest of this notebook, we will try to verify our hypothesis by inspecting the data.\n",
    "metadata_path = 'data/movies_metadata.csv'\n",
    "credit_path = 'data/credits.csv'\n",
    "\n",
    "import warnings\n",
    "# warnings.filterwarnings('ignore')\n",
    "\n",
    "metadata = pd.read_csv(metadata_path, low_memory=False)\n",
    "credit = pd.read_csv(credit_path, low_memory=False)"
   ]
  },
  {
   "attachments": {},
   "cell_type": "markdown",
   "metadata": {},
   "source": [
    "Since we are building a system that predict the revenue of un-released movies, the user ratings, votes, we will not have them.  \n",
    "We will drop those columns."
   ]
  },
  {
   "cell_type": "code",
   "execution_count": 32,
   "metadata": {},
   "outputs": [
    {
     "name": "stdout",
     "output_type": "stream",
     "text": [
      "19730 1997-08-20 nan\n",
      "29503 2012-09-29 nan\n",
      "35587 2014-01-01 nan\n"
     ]
    }
   ],
   "source": [
    "id_to_drop = []\n",
    "for i in range(45465+1):\n",
    "    try:\n",
    "        int_id = int(metadata['id'][i])\n",
    "    except:\n",
    "        print(i, metadata['id'][i], metadata['title'][i])\n",
    "        id_to_drop.append(i)  \n",
    "for i in reversed(id_to_drop):    \n",
    "    metadata.drop(i, axis=0, inplace=True)"
   ]
  },
  {
   "cell_type": "code",
   "execution_count": 33,
   "metadata": {},
   "outputs": [],
   "source": [
    "# Because the id in metadata is string, we need to convert it to int so that we can merge the two dataframes.\n",
    "metadata['id'] = metadata['id'].astype(int)\n",
    "full_data = pd.merge(metadata, credit, left_on='id', right_on='id', how='left')"
   ]
  },
  {
   "attachments": {},
   "cell_type": "markdown",
   "metadata": {},
   "source": [
    "We can see that there are some nans in some of the columns, some columns has small numbers of nans which could be ignored. Some column like belongs_to_collection, nan means no collection that the movie is belong to, so we need to create special embedding for that. Another way of doing is some data might be nan in our csv but available online, we can find them and fill in it ourselves."
   ]
  },
  {
   "attachments": {},
   "cell_type": "markdown",
   "metadata": {},
   "source": [
    "Here because there are hundreds of data missing in column release data and runtime, we just remove them."
   ]
  },
  {
   "cell_type": "code",
   "execution_count": 34,
   "metadata": {},
   "outputs": [],
   "source": [
    "# Remove nans in release_date and runtime\n",
    "full_data.drop(full_data[full_data['release_date'].isnull()].index, inplace=True)\n",
    "full_data.drop(full_data[full_data['runtime'].isnull()].index, inplace=True)"
   ]
  },
  {
   "attachments": {},
   "cell_type": "markdown",
   "metadata": {},
   "source": [
    "We have the release data in string format, we will only keep month for future use."
   ]
  },
  {
   "cell_type": "code",
   "execution_count": 35,
   "metadata": {},
   "outputs": [],
   "source": [
    "full_data['release_date'] = pd.to_datetime(full_data['release_date'], format='%Y-%m-%d',errors='coerce').dt.month.astype(int)"
   ]
  },
  {
   "attachments": {},
   "cell_type": "markdown",
   "metadata": {},
   "source": [
    "Upon inspecting, we can see that some of the columns are json in string format. We could convert them from string to dictionary, so we save a lot of work reading useful data."
   ]
  },
  {
   "cell_type": "code",
   "execution_count": 36,
   "metadata": {},
   "outputs": [],
   "source": [
    "import json\n",
    "import math\n",
    "from json.decoder import JSONDecodeError\n",
    "\n",
    "json_columns = ['belongs_to_collection', 'genres', 'spoken_languages', 'production_companies', 'production_countries', 'cast', 'crew']\n",
    "# We defined those columns as json columns because they are in json format.\n",
    "def correction_and_load_json(json_str):\n",
    "    if isinstance(json_str, float) and math.isnan(json_str):\n",
    "        return json_str\n",
    "    if isinstance(json_str, dict):\n",
    "        return json_str\n",
    "    if json_str is None:\n",
    "        return json_str\n",
    "    try:\n",
    "        return json.loads(json_str)\n",
    "    except JSONDecodeError:\n",
    "        fixed_str = json_str.replace(\"'\", '\"')\n",
    "        try:\n",
    "            return json.loads(fixed_str)\n",
    "        except:\n",
    "            # print(json_str)\n",
    "            return json_str\n",
    "\n",
    "        # try:\n",
    "        #     return json.loads(fixed_str)\n",
    "        # except:\n",
    "        #     # If you can't fix it, return a NaN\n",
    "        #     return np.nan\n",
    "    except TypeError:\n",
    "        # print(json_str)\n",
    "        return json_str\n",
    "    except:\n",
    "        print(json_str)\n",
    "        # return np.nan\n",
    "        return json_str\n",
    "\n",
    "for column in json_columns:\n",
    "    # print(\"Current column: \", column)\n",
    "    full_data[column] = full_data[column].map(correction_and_load_json)"
   ]
  },
  {
   "cell_type": "code",
   "execution_count": 37,
   "metadata": {},
   "outputs": [],
   "source": [
    "has_or_not = ['belongs_to_collection', 'homepage', 'tagline']\n",
    "new_column = ['has_collection', 'has_homepage', 'has_tagline']\n",
    "for i in range(len(has_or_not)):\n",
    "    full_data[new_column[i]] = full_data[has_or_not[i]].apply(lambda x: 0 if x is np.nan else 1)"
   ]
  },
  {
   "cell_type": "code",
   "execution_count": 38,
   "metadata": {},
   "outputs": [],
   "source": [
    "# Add crew_count feature\n",
    "full_data['crew_count'] = full_data['crew'].apply(lambda x: len(x) if x is not np.nan else 0)\n",
    "# Add genres_count feature\n",
    "full_data['genres_count'] = full_data['genres'].apply(lambda x: len(x) if x is not np.nan else 0)"
   ]
  },
  {
   "cell_type": "code",
   "execution_count": 40,
   "metadata": {},
   "outputs": [
    {
     "data": {
      "text/html": [
       "<div>\n",
       "<style scoped>\n",
       "    .dataframe tbody tr th:only-of-type {\n",
       "        vertical-align: middle;\n",
       "    }\n",
       "\n",
       "    .dataframe tbody tr th {\n",
       "        vertical-align: top;\n",
       "    }\n",
       "\n",
       "    .dataframe thead th {\n",
       "        text-align: right;\n",
       "    }\n",
       "</style>\n",
       "<table border=\"1\" class=\"dataframe\">\n",
       "  <thead>\n",
       "    <tr style=\"text-align: right;\">\n",
       "      <th></th>\n",
       "      <th>adult</th>\n",
       "      <th>belongs_to_collection</th>\n",
       "      <th>budget</th>\n",
       "      <th>genres</th>\n",
       "      <th>homepage</th>\n",
       "      <th>id</th>\n",
       "      <th>imdb_id</th>\n",
       "      <th>original_language</th>\n",
       "      <th>original_title</th>\n",
       "      <th>overview</th>\n",
       "      <th>popularity</th>\n",
       "      <th>poster_path</th>\n",
       "      <th>production_companies</th>\n",
       "      <th>production_countries</th>\n",
       "      <th>release_date</th>\n",
       "      <th>revenue</th>\n",
       "      <th>runtime</th>\n",
       "      <th>spoken_languages</th>\n",
       "      <th>status</th>\n",
       "      <th>tagline</th>\n",
       "      <th>title</th>\n",
       "      <th>video</th>\n",
       "      <th>vote_average</th>\n",
       "      <th>vote_count</th>\n",
       "      <th>cast</th>\n",
       "      <th>crew</th>\n",
       "      <th>has_collection</th>\n",
       "      <th>has_homepage</th>\n",
       "      <th>has_tagline</th>\n",
       "      <th>crew_count</th>\n",
       "      <th>genres_count</th>\n",
       "    </tr>\n",
       "  </thead>\n",
       "  <tbody>\n",
       "    <tr>\n",
       "      <th>0</th>\n",
       "      <td>False</td>\n",
       "      <td>{'id': 10194, 'name': 'Toy Story Collection', ...</td>\n",
       "      <td>30000000</td>\n",
       "      <td>[{'id': 16, 'name': 'Animation'}, {'id': 35, '...</td>\n",
       "      <td>http://toystory.disney.com/toy-story</td>\n",
       "      <td>862</td>\n",
       "      <td>tt0114709</td>\n",
       "      <td>en</td>\n",
       "      <td>Toy Story</td>\n",
       "      <td>Led by Woody, Andy's toys live happily in his ...</td>\n",
       "      <td>21.946943</td>\n",
       "      <td>/rhIRbceoE9lR4veEXuwCC2wARtG.jpg</td>\n",
       "      <td>[{'name': 'Pixar Animation Studios', 'id': 3}]</td>\n",
       "      <td>[{'iso_3166_1': 'US', 'name': 'United States o...</td>\n",
       "      <td>10</td>\n",
       "      <td>3.736e+08</td>\n",
       "      <td>81.0</td>\n",
       "      <td>[{'iso_639_1': 'en', 'name': 'English'}]</td>\n",
       "      <td>Released</td>\n",
       "      <td>NaN</td>\n",
       "      <td>Toy Story</td>\n",
       "      <td>False</td>\n",
       "      <td>7.7</td>\n",
       "      <td>5415.0</td>\n",
       "      <td>[{'cast_id': 14, 'character': 'Woody (voice)',...</td>\n",
       "      <td>[{'credit_id': '52fe4284c3a36847f8024f49', 'de...</td>\n",
       "      <td>1</td>\n",
       "      <td>1</td>\n",
       "      <td>0</td>\n",
       "      <td>18654</td>\n",
       "      <td>3</td>\n",
       "    </tr>\n",
       "    <tr>\n",
       "      <th>1</th>\n",
       "      <td>False</td>\n",
       "      <td>NaN</td>\n",
       "      <td>65000000</td>\n",
       "      <td>[{'id': 12, 'name': 'Adventure'}, {'id': 14, '...</td>\n",
       "      <td>NaN</td>\n",
       "      <td>8844</td>\n",
       "      <td>tt0113497</td>\n",
       "      <td>en</td>\n",
       "      <td>Jumanji</td>\n",
       "      <td>When siblings Judy and Peter discover an encha...</td>\n",
       "      <td>17.015539</td>\n",
       "      <td>/vzmL6fP7aPKNKPRTFnZmiUfciyV.jpg</td>\n",
       "      <td>[{'name': 'TriStar Pictures', 'id': 559}, {'na...</td>\n",
       "      <td>[{'iso_3166_1': 'US', 'name': 'United States o...</td>\n",
       "      <td>12</td>\n",
       "      <td>2.628e+08</td>\n",
       "      <td>104.0</td>\n",
       "      <td>[{'iso_639_1': 'en', 'name': 'English'}, {'iso...</td>\n",
       "      <td>Released</td>\n",
       "      <td>Roll the dice and unleash the excitement!</td>\n",
       "      <td>Jumanji</td>\n",
       "      <td>False</td>\n",
       "      <td>6.9</td>\n",
       "      <td>2413.0</td>\n",
       "      <td>[{'cast_id': 1, 'character': 'Alan Parrish', '...</td>\n",
       "      <td>[{'credit_id': '52fe44bfc3a36847f80a7cd1', 'de...</td>\n",
       "      <td>0</td>\n",
       "      <td>0</td>\n",
       "      <td>1</td>\n",
       "      <td>2861</td>\n",
       "      <td>3</td>\n",
       "    </tr>\n",
       "    <tr>\n",
       "      <th>2</th>\n",
       "      <td>False</td>\n",
       "      <td>{'id': 119050, 'name': 'Grumpy Old Men Collect...</td>\n",
       "      <td>0</td>\n",
       "      <td>[{'id': 10749, 'name': 'Romance'}, {'id': 35, ...</td>\n",
       "      <td>NaN</td>\n",
       "      <td>15602</td>\n",
       "      <td>tt0113228</td>\n",
       "      <td>en</td>\n",
       "      <td>Grumpier Old Men</td>\n",
       "      <td>A family wedding reignites the ancient feud be...</td>\n",
       "      <td>11.7129</td>\n",
       "      <td>/6ksm1sjKMFLbO7UY2i6G1ju9SML.jpg</td>\n",
       "      <td>[{'name': 'Warner Bros.', 'id': 6194}, {'name'...</td>\n",
       "      <td>[{'iso_3166_1': 'US', 'name': 'United States o...</td>\n",
       "      <td>12</td>\n",
       "      <td>0.000e+00</td>\n",
       "      <td>101.0</td>\n",
       "      <td>[{'iso_639_1': 'en', 'name': 'English'}]</td>\n",
       "      <td>Released</td>\n",
       "      <td>Still Yelling. Still Fighting. Still Ready for...</td>\n",
       "      <td>Grumpier Old Men</td>\n",
       "      <td>False</td>\n",
       "      <td>6.5</td>\n",
       "      <td>92.0</td>\n",
       "      <td>[{'cast_id': 2, 'character': 'Max Goldman', 'c...</td>\n",
       "      <td>[{'credit_id': '52fe466a9251416c75077a89', 'de...</td>\n",
       "      <td>1</td>\n",
       "      <td>0</td>\n",
       "      <td>1</td>\n",
       "      <td>748</td>\n",
       "      <td>2</td>\n",
       "    </tr>\n",
       "    <tr>\n",
       "      <th>3</th>\n",
       "      <td>False</td>\n",
       "      <td>NaN</td>\n",
       "      <td>16000000</td>\n",
       "      <td>[{'id': 35, 'name': 'Comedy'}, {'id': 18, 'nam...</td>\n",
       "      <td>NaN</td>\n",
       "      <td>31357</td>\n",
       "      <td>tt0114885</td>\n",
       "      <td>en</td>\n",
       "      <td>Waiting to Exhale</td>\n",
       "      <td>Cheated on, mistreated and stepped on, the wom...</td>\n",
       "      <td>3.859495</td>\n",
       "      <td>/16XOMpEaLWkrcPqSQqhTmeJuqQl.jpg</td>\n",
       "      <td>[{'name': 'Twentieth Century Fox Film Corporat...</td>\n",
       "      <td>[{'iso_3166_1': 'US', 'name': 'United States o...</td>\n",
       "      <td>12</td>\n",
       "      <td>8.145e+07</td>\n",
       "      <td>127.0</td>\n",
       "      <td>[{'iso_639_1': 'en', 'name': 'English'}]</td>\n",
       "      <td>Released</td>\n",
       "      <td>Friends are the people who let you be yourself...</td>\n",
       "      <td>Waiting to Exhale</td>\n",
       "      <td>False</td>\n",
       "      <td>6.1</td>\n",
       "      <td>34.0</td>\n",
       "      <td>[{'cast_id': 1, 'character': \"Savannah 'Vannah...</td>\n",
       "      <td>[{'credit_id': '52fe44779251416c91011acb', 'de...</td>\n",
       "      <td>0</td>\n",
       "      <td>0</td>\n",
       "      <td>1</td>\n",
       "      <td>1736</td>\n",
       "      <td>3</td>\n",
       "    </tr>\n",
       "    <tr>\n",
       "      <th>4</th>\n",
       "      <td>False</td>\n",
       "      <td>{'id': 96871, 'name': 'Father of the Bride Col...</td>\n",
       "      <td>0</td>\n",
       "      <td>[{'id': 35, 'name': 'Comedy'}]</td>\n",
       "      <td>NaN</td>\n",
       "      <td>11862</td>\n",
       "      <td>tt0113041</td>\n",
       "      <td>en</td>\n",
       "      <td>Father of the Bride Part II</td>\n",
       "      <td>Just when George Banks has recovered from his ...</td>\n",
       "      <td>8.387519</td>\n",
       "      <td>/e64sOI48hQXyru7naBFyssKFxVd.jpg</td>\n",
       "      <td>[{'name': 'Sandollar Productions', 'id': 5842}...</td>\n",
       "      <td>[{'iso_3166_1': 'US', 'name': 'United States o...</td>\n",
       "      <td>2</td>\n",
       "      <td>7.658e+07</td>\n",
       "      <td>106.0</td>\n",
       "      <td>[{'iso_639_1': 'en', 'name': 'English'}]</td>\n",
       "      <td>Released</td>\n",
       "      <td>Just When His World Is Back To Normal... He's ...</td>\n",
       "      <td>Father of the Bride Part II</td>\n",
       "      <td>False</td>\n",
       "      <td>5.7</td>\n",
       "      <td>173.0</td>\n",
       "      <td>[{'cast_id': 1, 'character': 'George Banks', '...</td>\n",
       "      <td>[{'credit_id': '52fe44959251416c75039ed7', 'de...</td>\n",
       "      <td>1</td>\n",
       "      <td>0</td>\n",
       "      <td>1</td>\n",
       "      <td>1269</td>\n",
       "      <td>1</td>\n",
       "    </tr>\n",
       "  </tbody>\n",
       "</table>\n",
       "</div>"
      ],
      "text/plain": [
       "   adult                              belongs_to_collection    budget  \\\n",
       "0  False  {'id': 10194, 'name': 'Toy Story Collection', ...  30000000   \n",
       "1  False                                                NaN  65000000   \n",
       "2  False  {'id': 119050, 'name': 'Grumpy Old Men Collect...         0   \n",
       "3  False                                                NaN  16000000   \n",
       "4  False  {'id': 96871, 'name': 'Father of the Bride Col...         0   \n",
       "\n",
       "                                              genres  \\\n",
       "0  [{'id': 16, 'name': 'Animation'}, {'id': 35, '...   \n",
       "1  [{'id': 12, 'name': 'Adventure'}, {'id': 14, '...   \n",
       "2  [{'id': 10749, 'name': 'Romance'}, {'id': 35, ...   \n",
       "3  [{'id': 35, 'name': 'Comedy'}, {'id': 18, 'nam...   \n",
       "4                     [{'id': 35, 'name': 'Comedy'}]   \n",
       "\n",
       "                               homepage     id    imdb_id original_language  \\\n",
       "0  http://toystory.disney.com/toy-story    862  tt0114709                en   \n",
       "1                                   NaN   8844  tt0113497                en   \n",
       "2                                   NaN  15602  tt0113228                en   \n",
       "3                                   NaN  31357  tt0114885                en   \n",
       "4                                   NaN  11862  tt0113041                en   \n",
       "\n",
       "                original_title  \\\n",
       "0                    Toy Story   \n",
       "1                      Jumanji   \n",
       "2             Grumpier Old Men   \n",
       "3            Waiting to Exhale   \n",
       "4  Father of the Bride Part II   \n",
       "\n",
       "                                            overview popularity  \\\n",
       "0  Led by Woody, Andy's toys live happily in his ...  21.946943   \n",
       "1  When siblings Judy and Peter discover an encha...  17.015539   \n",
       "2  A family wedding reignites the ancient feud be...    11.7129   \n",
       "3  Cheated on, mistreated and stepped on, the wom...   3.859495   \n",
       "4  Just when George Banks has recovered from his ...   8.387519   \n",
       "\n",
       "                        poster_path  \\\n",
       "0  /rhIRbceoE9lR4veEXuwCC2wARtG.jpg   \n",
       "1  /vzmL6fP7aPKNKPRTFnZmiUfciyV.jpg   \n",
       "2  /6ksm1sjKMFLbO7UY2i6G1ju9SML.jpg   \n",
       "3  /16XOMpEaLWkrcPqSQqhTmeJuqQl.jpg   \n",
       "4  /e64sOI48hQXyru7naBFyssKFxVd.jpg   \n",
       "\n",
       "                                production_companies  \\\n",
       "0     [{'name': 'Pixar Animation Studios', 'id': 3}]   \n",
       "1  [{'name': 'TriStar Pictures', 'id': 559}, {'na...   \n",
       "2  [{'name': 'Warner Bros.', 'id': 6194}, {'name'...   \n",
       "3  [{'name': 'Twentieth Century Fox Film Corporat...   \n",
       "4  [{'name': 'Sandollar Productions', 'id': 5842}...   \n",
       "\n",
       "                                production_countries  release_date    revenue  \\\n",
       "0  [{'iso_3166_1': 'US', 'name': 'United States o...            10  3.736e+08   \n",
       "1  [{'iso_3166_1': 'US', 'name': 'United States o...            12  2.628e+08   \n",
       "2  [{'iso_3166_1': 'US', 'name': 'United States o...            12  0.000e+00   \n",
       "3  [{'iso_3166_1': 'US', 'name': 'United States o...            12  8.145e+07   \n",
       "4  [{'iso_3166_1': 'US', 'name': 'United States o...             2  7.658e+07   \n",
       "\n",
       "   runtime                                   spoken_languages    status  \\\n",
       "0     81.0           [{'iso_639_1': 'en', 'name': 'English'}]  Released   \n",
       "1    104.0  [{'iso_639_1': 'en', 'name': 'English'}, {'iso...  Released   \n",
       "2    101.0           [{'iso_639_1': 'en', 'name': 'English'}]  Released   \n",
       "3    127.0           [{'iso_639_1': 'en', 'name': 'English'}]  Released   \n",
       "4    106.0           [{'iso_639_1': 'en', 'name': 'English'}]  Released   \n",
       "\n",
       "                                             tagline  \\\n",
       "0                                                NaN   \n",
       "1          Roll the dice and unleash the excitement!   \n",
       "2  Still Yelling. Still Fighting. Still Ready for...   \n",
       "3  Friends are the people who let you be yourself...   \n",
       "4  Just When His World Is Back To Normal... He's ...   \n",
       "\n",
       "                         title  video  vote_average  vote_count  \\\n",
       "0                    Toy Story  False           7.7      5415.0   \n",
       "1                      Jumanji  False           6.9      2413.0   \n",
       "2             Grumpier Old Men  False           6.5        92.0   \n",
       "3            Waiting to Exhale  False           6.1        34.0   \n",
       "4  Father of the Bride Part II  False           5.7       173.0   \n",
       "\n",
       "                                                cast  \\\n",
       "0  [{'cast_id': 14, 'character': 'Woody (voice)',...   \n",
       "1  [{'cast_id': 1, 'character': 'Alan Parrish', '...   \n",
       "2  [{'cast_id': 2, 'character': 'Max Goldman', 'c...   \n",
       "3  [{'cast_id': 1, 'character': \"Savannah 'Vannah...   \n",
       "4  [{'cast_id': 1, 'character': 'George Banks', '...   \n",
       "\n",
       "                                                crew  has_collection  \\\n",
       "0  [{'credit_id': '52fe4284c3a36847f8024f49', 'de...               1   \n",
       "1  [{'credit_id': '52fe44bfc3a36847f80a7cd1', 'de...               0   \n",
       "2  [{'credit_id': '52fe466a9251416c75077a89', 'de...               1   \n",
       "3  [{'credit_id': '52fe44779251416c91011acb', 'de...               0   \n",
       "4  [{'credit_id': '52fe44959251416c75039ed7', 'de...               1   \n",
       "\n",
       "   has_homepage  has_tagline  crew_count  genres_count  \n",
       "0             1            0       18654             3  \n",
       "1             0            1        2861             3  \n",
       "2             0            1         748             2  \n",
       "3             0            1        1736             3  \n",
       "4             0            1        1269             1  "
      ]
     },
     "metadata": {},
     "output_type": "display_data"
    }
   ],
   "source": [
    "with pd.option_context('display.max_rows', None,\n",
    "                       'display.max_columns', None,\n",
    "                       'display.precision', 3,\n",
    "                       ):\n",
    "    display(full_data.head(5))"
   ]
  },
  {
   "cell_type": "code",
   "execution_count": 41,
   "metadata": {},
   "outputs": [
    {
     "data": {
      "text/html": [
       "<div>\n",
       "<style scoped>\n",
       "    .dataframe tbody tr th:only-of-type {\n",
       "        vertical-align: middle;\n",
       "    }\n",
       "\n",
       "    .dataframe tbody tr th {\n",
       "        vertical-align: top;\n",
       "    }\n",
       "\n",
       "    .dataframe thead th {\n",
       "        text-align: right;\n",
       "    }\n",
       "</style>\n",
       "<table border=\"1\" class=\"dataframe\">\n",
       "  <thead>\n",
       "    <tr style=\"text-align: right;\">\n",
       "      <th></th>\n",
       "      <th>adult</th>\n",
       "      <th>belongs_to_collection</th>\n",
       "      <th>budget</th>\n",
       "      <th>genres</th>\n",
       "      <th>homepage</th>\n",
       "      <th>id</th>\n",
       "      <th>imdb_id</th>\n",
       "      <th>original_language</th>\n",
       "      <th>original_title</th>\n",
       "      <th>overview</th>\n",
       "      <th>...</th>\n",
       "      <th>video</th>\n",
       "      <th>vote_average</th>\n",
       "      <th>vote_count</th>\n",
       "      <th>cast</th>\n",
       "      <th>crew</th>\n",
       "      <th>has_collection</th>\n",
       "      <th>has_homepage</th>\n",
       "      <th>has_tagline</th>\n",
       "      <th>crew_count</th>\n",
       "      <th>genres_count</th>\n",
       "    </tr>\n",
       "  </thead>\n",
       "  <tbody>\n",
       "    <tr>\n",
       "      <th>0</th>\n",
       "      <td>False</td>\n",
       "      <td>{'id': 10194, 'name': 'Toy Story Collection', ...</td>\n",
       "      <td>30000000</td>\n",
       "      <td>[{'id': 16, 'name': 'Animation'}, {'id': 35, '...</td>\n",
       "      <td>http://toystory.disney.com/toy-story</td>\n",
       "      <td>862</td>\n",
       "      <td>tt0114709</td>\n",
       "      <td>en</td>\n",
       "      <td>Toy Story</td>\n",
       "      <td>Led by Woody, Andy's toys live happily in his ...</td>\n",
       "      <td>...</td>\n",
       "      <td>False</td>\n",
       "      <td>7.7</td>\n",
       "      <td>5415.0</td>\n",
       "      <td>[{'cast_id': 14, 'character': 'Woody (voice)',...</td>\n",
       "      <td>[{'credit_id': '52fe4284c3a36847f8024f49', 'de...</td>\n",
       "      <td>1</td>\n",
       "      <td>1</td>\n",
       "      <td>0</td>\n",
       "      <td>18654</td>\n",
       "      <td>3</td>\n",
       "    </tr>\n",
       "    <tr>\n",
       "      <th>1</th>\n",
       "      <td>False</td>\n",
       "      <td>NaN</td>\n",
       "      <td>65000000</td>\n",
       "      <td>[{'id': 12, 'name': 'Adventure'}, {'id': 14, '...</td>\n",
       "      <td>NaN</td>\n",
       "      <td>8844</td>\n",
       "      <td>tt0113497</td>\n",
       "      <td>en</td>\n",
       "      <td>Jumanji</td>\n",
       "      <td>When siblings Judy and Peter discover an encha...</td>\n",
       "      <td>...</td>\n",
       "      <td>False</td>\n",
       "      <td>6.9</td>\n",
       "      <td>2413.0</td>\n",
       "      <td>[{'cast_id': 1, 'character': 'Alan Parrish', '...</td>\n",
       "      <td>[{'credit_id': '52fe44bfc3a36847f80a7cd1', 'de...</td>\n",
       "      <td>0</td>\n",
       "      <td>0</td>\n",
       "      <td>1</td>\n",
       "      <td>2861</td>\n",
       "      <td>3</td>\n",
       "    </tr>\n",
       "    <tr>\n",
       "      <th>2</th>\n",
       "      <td>False</td>\n",
       "      <td>{'id': 119050, 'name': 'Grumpy Old Men Collect...</td>\n",
       "      <td>0</td>\n",
       "      <td>[{'id': 10749, 'name': 'Romance'}, {'id': 35, ...</td>\n",
       "      <td>NaN</td>\n",
       "      <td>15602</td>\n",
       "      <td>tt0113228</td>\n",
       "      <td>en</td>\n",
       "      <td>Grumpier Old Men</td>\n",
       "      <td>A family wedding reignites the ancient feud be...</td>\n",
       "      <td>...</td>\n",
       "      <td>False</td>\n",
       "      <td>6.5</td>\n",
       "      <td>92.0</td>\n",
       "      <td>[{'cast_id': 2, 'character': 'Max Goldman', 'c...</td>\n",
       "      <td>[{'credit_id': '52fe466a9251416c75077a89', 'de...</td>\n",
       "      <td>1</td>\n",
       "      <td>0</td>\n",
       "      <td>1</td>\n",
       "      <td>748</td>\n",
       "      <td>2</td>\n",
       "    </tr>\n",
       "    <tr>\n",
       "      <th>3</th>\n",
       "      <td>False</td>\n",
       "      <td>NaN</td>\n",
       "      <td>16000000</td>\n",
       "      <td>[{'id': 35, 'name': 'Comedy'}, {'id': 18, 'nam...</td>\n",
       "      <td>NaN</td>\n",
       "      <td>31357</td>\n",
       "      <td>tt0114885</td>\n",
       "      <td>en</td>\n",
       "      <td>Waiting to Exhale</td>\n",
       "      <td>Cheated on, mistreated and stepped on, the wom...</td>\n",
       "      <td>...</td>\n",
       "      <td>False</td>\n",
       "      <td>6.1</td>\n",
       "      <td>34.0</td>\n",
       "      <td>[{'cast_id': 1, 'character': \"Savannah 'Vannah...</td>\n",
       "      <td>[{'credit_id': '52fe44779251416c91011acb', 'de...</td>\n",
       "      <td>0</td>\n",
       "      <td>0</td>\n",
       "      <td>1</td>\n",
       "      <td>1736</td>\n",
       "      <td>3</td>\n",
       "    </tr>\n",
       "    <tr>\n",
       "      <th>4</th>\n",
       "      <td>False</td>\n",
       "      <td>{'id': 96871, 'name': 'Father of the Bride Col...</td>\n",
       "      <td>0</td>\n",
       "      <td>[{'id': 35, 'name': 'Comedy'}]</td>\n",
       "      <td>NaN</td>\n",
       "      <td>11862</td>\n",
       "      <td>tt0113041</td>\n",
       "      <td>en</td>\n",
       "      <td>Father of the Bride Part II</td>\n",
       "      <td>Just when George Banks has recovered from his ...</td>\n",
       "      <td>...</td>\n",
       "      <td>False</td>\n",
       "      <td>5.7</td>\n",
       "      <td>173.0</td>\n",
       "      <td>[{'cast_id': 1, 'character': 'George Banks', '...</td>\n",
       "      <td>[{'credit_id': '52fe44959251416c75039ed7', 'de...</td>\n",
       "      <td>1</td>\n",
       "      <td>0</td>\n",
       "      <td>1</td>\n",
       "      <td>1269</td>\n",
       "      <td>1</td>\n",
       "    </tr>\n",
       "    <tr>\n",
       "      <th>...</th>\n",
       "      <td>...</td>\n",
       "      <td>...</td>\n",
       "      <td>...</td>\n",
       "      <td>...</td>\n",
       "      <td>...</td>\n",
       "      <td>...</td>\n",
       "      <td>...</td>\n",
       "      <td>...</td>\n",
       "      <td>...</td>\n",
       "      <td>...</td>\n",
       "      <td>...</td>\n",
       "      <td>...</td>\n",
       "      <td>...</td>\n",
       "      <td>...</td>\n",
       "      <td>...</td>\n",
       "      <td>...</td>\n",
       "      <td>...</td>\n",
       "      <td>...</td>\n",
       "      <td>...</td>\n",
       "      <td>...</td>\n",
       "      <td>...</td>\n",
       "    </tr>\n",
       "    <tr>\n",
       "      <th>45533</th>\n",
       "      <td>False</td>\n",
       "      <td>NaN</td>\n",
       "      <td>0</td>\n",
       "      <td>[{'id': 18, 'name': 'Drama'}, {'id': 28, 'name...</td>\n",
       "      <td>NaN</td>\n",
       "      <td>30840</td>\n",
       "      <td>tt0102797</td>\n",
       "      <td>en</td>\n",
       "      <td>Robin Hood</td>\n",
       "      <td>Yet another version of the classic epic, with ...</td>\n",
       "      <td>...</td>\n",
       "      <td>False</td>\n",
       "      <td>5.7</td>\n",
       "      <td>26.0</td>\n",
       "      <td>[{'cast_id': 1, 'character': 'Sir Robert Hode'...</td>\n",
       "      <td>[{'credit_id': '52fe44439251416c9100a899', 'de...</td>\n",
       "      <td>0</td>\n",
       "      <td>0</td>\n",
       "      <td>0</td>\n",
       "      <td>1474</td>\n",
       "      <td>3</td>\n",
       "    </tr>\n",
       "    <tr>\n",
       "      <th>45535</th>\n",
       "      <td>False</td>\n",
       "      <td>NaN</td>\n",
       "      <td>0</td>\n",
       "      <td>[{'id': 18, 'name': 'Drama'}]</td>\n",
       "      <td>NaN</td>\n",
       "      <td>111109</td>\n",
       "      <td>tt2028550</td>\n",
       "      <td>tl</td>\n",
       "      <td>Siglo ng Pagluluwal</td>\n",
       "      <td>An artist struggles to finish his work while a...</td>\n",
       "      <td>...</td>\n",
       "      <td>False</td>\n",
       "      <td>9.0</td>\n",
       "      <td>3.0</td>\n",
       "      <td>[{'cast_id': 1002, 'character': 'Sister Angela...</td>\n",
       "      <td>[{'credit_id': '52fe4af1c3a36847f81e9b15', 'de...</td>\n",
       "      <td>0</td>\n",
       "      <td>0</td>\n",
       "      <td>0</td>\n",
       "      <td>1096</td>\n",
       "      <td>1</td>\n",
       "    </tr>\n",
       "    <tr>\n",
       "      <th>45536</th>\n",
       "      <td>False</td>\n",
       "      <td>NaN</td>\n",
       "      <td>0</td>\n",
       "      <td>[{'id': 28, 'name': 'Action'}, {'id': 18, 'nam...</td>\n",
       "      <td>NaN</td>\n",
       "      <td>67758</td>\n",
       "      <td>tt0303758</td>\n",
       "      <td>en</td>\n",
       "      <td>Betrayal</td>\n",
       "      <td>When one of her hits goes wrong, a professiona...</td>\n",
       "      <td>...</td>\n",
       "      <td>False</td>\n",
       "      <td>3.8</td>\n",
       "      <td>6.0</td>\n",
       "      <td>[{'cast_id': 6, 'character': 'Emily Shaw', 'cr...</td>\n",
       "      <td>[{'credit_id': '52fe4776c3a368484e0c8387', 'de...</td>\n",
       "      <td>0</td>\n",
       "      <td>0</td>\n",
       "      <td>1</td>\n",
       "      <td>878</td>\n",
       "      <td>3</td>\n",
       "    </tr>\n",
       "    <tr>\n",
       "      <th>45537</th>\n",
       "      <td>False</td>\n",
       "      <td>NaN</td>\n",
       "      <td>0</td>\n",
       "      <td>[]</td>\n",
       "      <td>NaN</td>\n",
       "      <td>227506</td>\n",
       "      <td>tt0008536</td>\n",
       "      <td>en</td>\n",
       "      <td>Satana likuyushchiy</td>\n",
       "      <td>In a small town live two brothers, one a minis...</td>\n",
       "      <td>...</td>\n",
       "      <td>False</td>\n",
       "      <td>0.0</td>\n",
       "      <td>0.0</td>\n",
       "      <td>[{'cast_id': 2, 'character': '', 'credit_id': ...</td>\n",
       "      <td>[{'credit_id': '533bccebc3a36844cf0011a7', 'de...</td>\n",
       "      <td>0</td>\n",
       "      <td>0</td>\n",
       "      <td>0</td>\n",
       "      <td>368</td>\n",
       "      <td>0</td>\n",
       "    </tr>\n",
       "    <tr>\n",
       "      <th>45538</th>\n",
       "      <td>False</td>\n",
       "      <td>NaN</td>\n",
       "      <td>0</td>\n",
       "      <td>[]</td>\n",
       "      <td>NaN</td>\n",
       "      <td>461257</td>\n",
       "      <td>tt6980792</td>\n",
       "      <td>en</td>\n",
       "      <td>Queerama</td>\n",
       "      <td>50 years after decriminalisation of homosexual...</td>\n",
       "      <td>...</td>\n",
       "      <td>False</td>\n",
       "      <td>0.0</td>\n",
       "      <td>0.0</td>\n",
       "      <td>[]</td>\n",
       "      <td>[{'credit_id': '593e676c92514105b702e68e', 'de...</td>\n",
       "      <td>0</td>\n",
       "      <td>0</td>\n",
       "      <td>0</td>\n",
       "      <td>164</td>\n",
       "      <td>0</td>\n",
       "    </tr>\n",
       "  </tbody>\n",
       "</table>\n",
       "<p>45206 rows × 31 columns</p>\n",
       "</div>"
      ],
      "text/plain": [
       "       adult                              belongs_to_collection    budget  \\\n",
       "0      False  {'id': 10194, 'name': 'Toy Story Collection', ...  30000000   \n",
       "1      False                                                NaN  65000000   \n",
       "2      False  {'id': 119050, 'name': 'Grumpy Old Men Collect...         0   \n",
       "3      False                                                NaN  16000000   \n",
       "4      False  {'id': 96871, 'name': 'Father of the Bride Col...         0   \n",
       "...      ...                                                ...       ...   \n",
       "45533  False                                                NaN         0   \n",
       "45535  False                                                NaN         0   \n",
       "45536  False                                                NaN         0   \n",
       "45537  False                                                NaN         0   \n",
       "45538  False                                                NaN         0   \n",
       "\n",
       "                                                  genres  \\\n",
       "0      [{'id': 16, 'name': 'Animation'}, {'id': 35, '...   \n",
       "1      [{'id': 12, 'name': 'Adventure'}, {'id': 14, '...   \n",
       "2      [{'id': 10749, 'name': 'Romance'}, {'id': 35, ...   \n",
       "3      [{'id': 35, 'name': 'Comedy'}, {'id': 18, 'nam...   \n",
       "4                         [{'id': 35, 'name': 'Comedy'}]   \n",
       "...                                                  ...   \n",
       "45533  [{'id': 18, 'name': 'Drama'}, {'id': 28, 'name...   \n",
       "45535                      [{'id': 18, 'name': 'Drama'}]   \n",
       "45536  [{'id': 28, 'name': 'Action'}, {'id': 18, 'nam...   \n",
       "45537                                                 []   \n",
       "45538                                                 []   \n",
       "\n",
       "                                   homepage      id    imdb_id  \\\n",
       "0      http://toystory.disney.com/toy-story     862  tt0114709   \n",
       "1                                       NaN    8844  tt0113497   \n",
       "2                                       NaN   15602  tt0113228   \n",
       "3                                       NaN   31357  tt0114885   \n",
       "4                                       NaN   11862  tt0113041   \n",
       "...                                     ...     ...        ...   \n",
       "45533                                   NaN   30840  tt0102797   \n",
       "45535                                   NaN  111109  tt2028550   \n",
       "45536                                   NaN   67758  tt0303758   \n",
       "45537                                   NaN  227506  tt0008536   \n",
       "45538                                   NaN  461257  tt6980792   \n",
       "\n",
       "      original_language               original_title  \\\n",
       "0                    en                    Toy Story   \n",
       "1                    en                      Jumanji   \n",
       "2                    en             Grumpier Old Men   \n",
       "3                    en            Waiting to Exhale   \n",
       "4                    en  Father of the Bride Part II   \n",
       "...                 ...                          ...   \n",
       "45533                en                   Robin Hood   \n",
       "45535                tl          Siglo ng Pagluluwal   \n",
       "45536                en                     Betrayal   \n",
       "45537                en          Satana likuyushchiy   \n",
       "45538                en                     Queerama   \n",
       "\n",
       "                                                overview  ...  video  \\\n",
       "0      Led by Woody, Andy's toys live happily in his ...  ...  False   \n",
       "1      When siblings Judy and Peter discover an encha...  ...  False   \n",
       "2      A family wedding reignites the ancient feud be...  ...  False   \n",
       "3      Cheated on, mistreated and stepped on, the wom...  ...  False   \n",
       "4      Just when George Banks has recovered from his ...  ...  False   \n",
       "...                                                  ...  ...    ...   \n",
       "45533  Yet another version of the classic epic, with ...  ...  False   \n",
       "45535  An artist struggles to finish his work while a...  ...  False   \n",
       "45536  When one of her hits goes wrong, a professiona...  ...  False   \n",
       "45537  In a small town live two brothers, one a minis...  ...  False   \n",
       "45538  50 years after decriminalisation of homosexual...  ...  False   \n",
       "\n",
       "      vote_average vote_count  \\\n",
       "0              7.7     5415.0   \n",
       "1              6.9     2413.0   \n",
       "2              6.5       92.0   \n",
       "3              6.1       34.0   \n",
       "4              5.7      173.0   \n",
       "...            ...        ...   \n",
       "45533          5.7       26.0   \n",
       "45535          9.0        3.0   \n",
       "45536          3.8        6.0   \n",
       "45537          0.0        0.0   \n",
       "45538          0.0        0.0   \n",
       "\n",
       "                                                    cast  \\\n",
       "0      [{'cast_id': 14, 'character': 'Woody (voice)',...   \n",
       "1      [{'cast_id': 1, 'character': 'Alan Parrish', '...   \n",
       "2      [{'cast_id': 2, 'character': 'Max Goldman', 'c...   \n",
       "3      [{'cast_id': 1, 'character': \"Savannah 'Vannah...   \n",
       "4      [{'cast_id': 1, 'character': 'George Banks', '...   \n",
       "...                                                  ...   \n",
       "45533  [{'cast_id': 1, 'character': 'Sir Robert Hode'...   \n",
       "45535  [{'cast_id': 1002, 'character': 'Sister Angela...   \n",
       "45536  [{'cast_id': 6, 'character': 'Emily Shaw', 'cr...   \n",
       "45537  [{'cast_id': 2, 'character': '', 'credit_id': ...   \n",
       "45538                                                 []   \n",
       "\n",
       "                                                    crew  has_collection  \\\n",
       "0      [{'credit_id': '52fe4284c3a36847f8024f49', 'de...               1   \n",
       "1      [{'credit_id': '52fe44bfc3a36847f80a7cd1', 'de...               0   \n",
       "2      [{'credit_id': '52fe466a9251416c75077a89', 'de...               1   \n",
       "3      [{'credit_id': '52fe44779251416c91011acb', 'de...               0   \n",
       "4      [{'credit_id': '52fe44959251416c75039ed7', 'de...               1   \n",
       "...                                                  ...             ...   \n",
       "45533  [{'credit_id': '52fe44439251416c9100a899', 'de...               0   \n",
       "45535  [{'credit_id': '52fe4af1c3a36847f81e9b15', 'de...               0   \n",
       "45536  [{'credit_id': '52fe4776c3a368484e0c8387', 'de...               0   \n",
       "45537  [{'credit_id': '533bccebc3a36844cf0011a7', 'de...               0   \n",
       "45538  [{'credit_id': '593e676c92514105b702e68e', 'de...               0   \n",
       "\n",
       "       has_homepage has_tagline crew_count genres_count  \n",
       "0                 1           0      18654            3  \n",
       "1                 0           1       2861            3  \n",
       "2                 0           1        748            2  \n",
       "3                 0           1       1736            3  \n",
       "4                 0           1       1269            1  \n",
       "...             ...         ...        ...          ...  \n",
       "45533             0           0       1474            3  \n",
       "45535             0           0       1096            1  \n",
       "45536             0           1        878            3  \n",
       "45537             0           0        368            0  \n",
       "45538             0           0        164            0  \n",
       "\n",
       "[45206 rows x 31 columns]"
      ]
     },
     "execution_count": 41,
     "metadata": {},
     "output_type": "execute_result"
    }
   ],
   "source": [
    "full_data"
   ]
  },
  {
   "attachments": {},
   "cell_type": "markdown",
   "metadata": {},
   "source": [
    "## Remove movie that have 0 revenue from our dataset"
   ]
  },
  {
   "cell_type": "code",
   "execution_count": 9,
   "metadata": {},
   "outputs": [],
   "source": [
    "# full_data = full_data[full_data['revenue'] != 0]"
   ]
  },
  {
   "cell_type": "code",
   "execution_count": 43,
   "metadata": {},
   "outputs": [
    {
     "data": {
      "text/plain": [
       "<seaborn.axisgrid.JointGrid at 0x11c37dcf0>"
      ]
     },
     "execution_count": 43,
     "metadata": {},
     "output_type": "execute_result"
    },
    {
     "data": {
      "image/png": "[encoded data removed]",
      "text/plain": [
       "<Figure size 600x600 with 3 Axes>"
      ]
     },
     "metadata": {},
     "output_type": "display_data"
    }
   ],
   "source": [
    "import seaborn as sns\n",
    "\n",
    "# plot crew_count vs revenue\n",
    "sns.jointplot(x='vote_average', y='crew_count', data=full_data)\n"
   ]
  },
  {
   "cell_type": "code",
   "execution_count": 44,
   "metadata": {},
   "outputs": [],
   "source": [
    "full_data['genres_top'] = full_data['genres'].apply(lambda x: x[0]['name'] if x is not np.nan and len(x)>0 else np.nan)\n",
    "full_data['genres_second'] = full_data['genres'].apply(lambda x: x[1]['name'] if x is not np.nan and len(x)>1 else np.nan)"
   ]
  },
  {
   "cell_type": "code",
   "execution_count": 45,
   "metadata": {},
   "outputs": [],
   "source": [
    "full_data[\"has_collection\"] = full_data[\"belongs_to_collection\"].apply(lambda x: 0 if x is np.nan else 1)"
   ]
  },
  {
   "cell_type": "code",
   "execution_count": 46,
   "metadata": {},
   "outputs": [
    {
     "data": {
      "image/png": "[encoded data removed]",
      "text/plain": [
       "<Figure size 1200x600 with 1 Axes>"
      ]
     },
     "metadata": {},
     "output_type": "display_data"
    },
    {
     "data": {
      "image/png": "[encoded data removed]",
      "text/plain": [
       "<Figure size 1200x600 with 1 Axes>"
      ]
     },
     "metadata": {},
     "output_type": "display_data"
    },
    {
     "data": {
      "image/png": "[encoded data removed]",
      "text/plain": [
       "<Figure size 1200x600 with 1 Axes>"
      ]
     },
     "metadata": {},
     "output_type": "display_data"
    },
    {
     "data": {
      "image/png": "[encoded data removed]",
      "text/plain": [
       "<Figure size 1200x600 with 1 Axes>"
      ]
     },
     "metadata": {},
     "output_type": "display_data"
    },
    {
     "data": {
      "image/png": "[encoded data removed]",
      "text/plain": [
       "<Figure size 1200x600 with 1 Axes>"
      ]
     },
     "metadata": {},
     "output_type": "display_data"
    },
    {
     "data": {
      "image/png": "[encoded data removed]",
      "text/plain": [
       "<Figure size 1200x600 with 1 Axes>"
      ]
     },
     "metadata": {},
     "output_type": "display_data"
    },
    {
     "data": {
      "image/png": "[encoded data removed]",
      "text/plain": [
       "<Figure size 1200x600 with 1 Axes>"
      ]
     },
     "metadata": {},
     "output_type": "display_data"
    }
   ],
   "source": [
    "import matplotlib.pyplot as plt\n",
    "\n",
    "categorical_columns = ['genres_top','genres_second', 'genres_count', 'has_collection', 'has_homepage', 'has_tagline','release_date']\n",
    "numerical_column = 'vote_average'\n",
    "\n",
    "\n",
    "for cat_col in categorical_columns:\n",
    "    mean_revenue_df = full_data.groupby(cat_col, as_index=False)[numerical_column].mean()\n",
    "    mean_revenue_df = mean_revenue_df.sort_values(by=numerical_column, ascending=False)\n",
    "    plt.figure(figsize=(12, 6))\n",
    "    sns.barplot(x=cat_col, y=numerical_column, data=mean_revenue_df)\n",
    "    \n",
    "    \n",
    "    plt.title(f\"Mean Revenue by {cat_col}\")\n",
    "    plt.xlabel(cat_col)\n",
    "    plt.ylabel(\"Mean Revenue\")\n",
    "    \n",
    "    \n",
    "    plt.xticks(rotation=90)\n",
    "    plt.show()"
   ]
  },
  {
   "cell_type": "code",
   "execution_count": 50,
   "metadata": {},
   "outputs": [
    {
     "data": {
      "text/plain": [
       "((45206, 69), (45206,))"
      ]
     },
     "execution_count": 50,
     "metadata": {},
     "output_type": "execute_result"
    }
   ],
   "source": [
    "column_to_convert = ['genres_top','genres_second', 'genres_count', 'has_collection', 'has_homepage', 'has_tagline','release_date']\n",
    "selected_data = full_data[column_to_convert]\n",
    "for column_name in column_to_convert:\n",
    "    color_dummies = pd.get_dummies(selected_data[column_name], prefix=column_name)\n",
    "    # test_color_dummies = pd.get_dummies(selected_data[column_name], prefix=column_name)\n",
    "    # Concatenate the original DataFrame with the new one-hot encoded columns\n",
    "    selected_data = pd.concat([selected_data.drop(column_name, axis=1), color_dummies], axis=1)\n",
    "    # selected_data = pd.concat([selected_data.drop(column_name, axis=1), test_color_dummies], axis=1)\n",
    "\n",
    "from sklearn.preprocessing import StandardScaler\n",
    "\n",
    "label_column = 'vote_average'\n",
    "\n",
    "selected_data = pd.concat([selected_data, full_data[label_column]], axis=1)\n",
    "selected_data = pd.concat([selected_data, full_data['budget']], axis=1)\n",
    "selected_data = pd.concat([selected_data, full_data['crew_count']], axis=1)\n",
    "\n",
    "scaler = StandardScaler()\n",
    "scaler.fit(selected_data[['crew_count']])\n",
    "scaler.transform(selected_data[['crew_count']])\n",
    "\n",
    "train_data = selected_data.drop([label_column], axis=1).to_numpy().astype(np.float32)\n",
    "train_label = selected_data[label_column].to_numpy().astype(np.float32)\n",
    "# test_data = selected_data.drop([label_column], axis=1).to_numpy().astype(np.float32)\n",
    "# test_label = selected_data[label_column].to_numpy().astype(np.float32)\n",
    "train_data.shape, train_label.shape"
   ]
  },
  {
   "attachments": {},
   "cell_type": "markdown",
   "metadata": {},
   "source": [
    "## Do a regression MLP"
   ]
  },
  {
   "cell_type": "code",
   "execution_count": 51,
   "metadata": {},
   "outputs": [
    {
     "data": {
      "text/plain": [
       "(45206, 69)"
      ]
     },
     "execution_count": 51,
     "metadata": {},
     "output_type": "execute_result"
    }
   ],
   "source": [
    "import torch\n",
    "import torch.nn as nn\n",
    "import torch.nn.functional as F\n",
    "import torch.optim as optim\n",
    "from tqdm import tqdm\n",
    "import matplotlib.pyplot as plt\n",
    "\n",
    "# Define a custom dataset class\n",
    "class myDataset(torch.utils.data.Dataset):\n",
    "    def __init__(self, data, labels):\n",
    "        self.data = data\n",
    "        self.labels = labels\n",
    "\n",
    "    def __len__(self):\n",
    "        return len(self.data)\n",
    "\n",
    "    def __getitem__(self, idx):\n",
    "        sample = self.data[idx]\n",
    "        label = self.labels[idx]\n",
    "        return sample, label\n",
    "\n",
    "train_data_torch = torch.from_numpy(train_data)\n",
    "test_data_torch = torch.from_numpy(test_data)\n",
    "n_class = 2\n",
    "# train_label_one_hot = np.eye(n_class)[train_label.astype(int)]\n",
    "# test_label_one_hot = np.eye(n_class)[test_label.astype(int)]\n",
    "train_label = train_label.reshape(-1, 1)\n",
    "test_label = test_label.reshape(-1, 1)\n",
    "train_label_torch = torch.from_numpy(train_label.astype(np.float32))\n",
    "test_label_torch = torch.from_numpy(test_label.astype(np.float32))\n",
    "train_dataset = myDataset(train_data_torch, train_label_torch)\n",
    "test_dataset = myDataset(test_data_torch, test_label_torch)\n",
    "\n",
    "N, D = train_data_torch.shape\n",
    "N, D"
   ]
  },
  {
   "cell_type": "code",
   "execution_count": 58,
   "metadata": {},
   "outputs": [
    {
     "name": "stdout",
     "output_type": "stream",
     "text": [
      "Train set size: 40000, Validation set size: 5206\n"
     ]
    }
   ],
   "source": [
    "trainset, valset = torch.utils.data.random_split(train_dataset, [40000, N-40000])\n",
    "print(f'Train set size: {len(trainset)}, Validation set size: {len(valset)}')"
   ]
  },
  {
   "cell_type": "code",
   "execution_count": 59,
   "metadata": {},
   "outputs": [],
   "source": [
    "# Define function to call for each training epoch (one complete pass over the training set)\n",
    "def train(model, trainloader, criterion, optimizer, device):\n",
    "    model.train() # set model to training mode\n",
    "    running_loss = 0; running_acc = 0\n",
    "    with tqdm(total=len(trainloader), desc=f\"Train\", unit=\"batch\") as pbar:\n",
    "        for n_batch, (train_data, labels) in enumerate(trainloader): # Iterate over batches\n",
    "            train_data, labels = train_data.to(device), labels.to(device) # Move batch to device\n",
    "            optimizer.zero_grad()\n",
    "            output = model(train_data) # Forward pass\n",
    "            loss = criterion(output, labels) # Compute loss\n",
    "            loss.backward() # Backward pass\n",
    "            optimizer.step() # Update weights\n",
    "            # running_loss += loss.item()\n",
    "            # running_acc += (output.argmax(1) == labels.argmax(1)).float().mean().item()\n",
    "            pbar.set_postfix({'loss': loss.item()})# , 'acc': 100. * running_acc / (n_batch+1)})\n",
    "            pbar.update() # Update progress bar\n",
    "    return running_loss / len(trainloader)#, running_acc / len(trainloader) # return loss and accuracy for this epoch"
   ]
  },
  {
   "cell_type": "code",
   "execution_count": 60,
   "metadata": {},
   "outputs": [],
   "source": [
    "# Define function to call for each validation epoch (one complete pass over the validation set)\n",
    "def validate(model, valloader, criterion, device):\n",
    "    model.eval() # set model to evaluation mode (e.g. turn off dropout, batchnorm, etc.)\n",
    "    running_loss = 0; running_acc = 0\n",
    "    with torch.no_grad(): # no need to compute gradients for validation\n",
    "        with tqdm(total=len(valloader), desc=f\"Eval\", unit=\"batch\") as pbar:\n",
    "            for n_batch, (train_data, labels) in enumerate(valloader): # Iterate over batches\n",
    "                train_data, labels = train_data.to(device), labels.to(device) # Move batch to device\n",
    "                output = model(train_data) # Forward pass\n",
    "                loss = criterion(output, labels) # Compute loss\n",
    "                running_loss += loss.item()\n",
    "                #running_acc += (output.argmax(1) == labels.argmax(1)).float().mean().item()\n",
    "                pbar.set_postfix({'loss': loss.item()})#, 'acc': 100. * running_acc / (n_batch+1)})\n",
    "                pbar.update() # Update progress bar\n",
    "    return running_loss / len(valloader)#, running_acc / len(valloader)  # return loss and accuracy for this epoch"
   ]
  },
  {
   "cell_type": "code",
   "execution_count": 61,
   "metadata": {},
   "outputs": [
    {
     "name": "stdout",
     "output_type": "stream",
     "text": [
      "Using device: mps\n"
     ]
    }
   ],
   "source": [
    "# set the device to use and move model to device\n",
    "if torch.cuda.is_available():\n",
    "    device = torch.device(\"cuda:0\")\n",
    "elif torch.torch.backends.mps.is_available():\n",
    "    device = torch.device(\"mps\") # MPS acceleration is available on MacOS 12.3+\n",
    "else:\n",
    "    device = torch.device(\"cpu\")\n",
    "\n",
    "print(f\"Using device: {device}\")\n"
   ]
  },
  {
   "cell_type": "code",
   "execution_count": 66,
   "metadata": {},
   "outputs": [],
   "source": [
    "class LinearRegression(nn.Module):\n",
    "    def __init__(self, input_size, output_size):\n",
    "        super(LinearRegression, self).__init__()\n",
    "        self.linear = nn.Linear(input_size, output_size)\n",
    "\n",
    "    def forward(self, x):\n",
    "        return self.linear(x)\n",
    "    \n",
    "class MLP(nn.Module):\n",
    "    def __init__(self, n_feature, n_classes, n_hidden): # Define layers in the constructor\n",
    "        super().__init__()\n",
    "        self.fc1 = nn.Linear(n_feature, n_hidden)\n",
    "        self.relu = nn.ReLU()\n",
    "        self.fc2 = nn.Linear(n_hidden, n_hidden)\n",
    "        self.fc3 = nn.Linear(n_hidden, n_classes)\n",
    "        \n",
    "    def forward(self, x): # Define forward pass in the forward method\n",
    "        x = x.view(x.shape[0], -1)  #flatten into a 784 length tensor\n",
    "        x = self.relu(self.fc1(x))\n",
    "        x = self.relu(self.fc2(x))\n",
    "        x = self.fc3(x)\n",
    "        return x # note: no softmax, as this is included in the loss function in PyTorch\n"
   ]
  },
  {
   "cell_type": "code",
   "execution_count": 68,
   "metadata": {},
   "outputs": [
    {
     "name": "stdout",
     "output_type": "stream",
     "text": [
      "Epoch 1/40\n"
     ]
    },
    {
     "name": "stderr",
     "output_type": "stream",
     "text": [
      "Train: 100%|██████████| 800/800 [00:03<00:00, 218.98batch/s, loss=2.91e+3]\n",
      "Eval: 100%|██████████| 105/105 [00:00<00:00, 392.02batch/s, loss=0.785]  \n"
     ]
    },
    {
     "name": "stdout",
     "output_type": "stream",
     "text": [
      "Epoch 2/40\n"
     ]
    },
    {
     "name": "stderr",
     "output_type": "stream",
     "text": [
      "Train: 100%|██████████| 800/800 [00:03<00:00, 228.09batch/s, loss=2.47e+4]\n",
      "Eval: 100%|██████████| 105/105 [00:00<00:00, 508.80batch/s, loss=0.843]  \n"
     ]
    },
    {
     "name": "stdout",
     "output_type": "stream",
     "text": [
      "Epoch 3/40\n"
     ]
    },
    {
     "name": "stderr",
     "output_type": "stream",
     "text": [
      "Train: 100%|██████████| 800/800 [00:03<00:00, 228.61batch/s, loss=49.7]   \n",
      "Eval: 100%|██████████| 105/105 [00:00<00:00, 531.01batch/s, loss=11.7]  \n"
     ]
    },
    {
     "name": "stdout",
     "output_type": "stream",
     "text": [
      "Epoch 4/40\n"
     ]
    },
    {
     "name": "stderr",
     "output_type": "stream",
     "text": [
      "Train: 100%|██████████| 800/800 [00:03<00:00, 229.36batch/s, loss=7.34e+5]\n",
      "Eval: 100%|██████████| 105/105 [00:00<00:00, 522.47batch/s, loss=0.747]  \n"
     ]
    },
    {
     "name": "stdout",
     "output_type": "stream",
     "text": [
      "Epoch 5/40\n"
     ]
    },
    {
     "name": "stderr",
     "output_type": "stream",
     "text": [
      "Train: 100%|██████████| 800/800 [00:03<00:00, 224.82batch/s, loss=245]    \n",
      "Eval: 100%|██████████| 105/105 [00:00<00:00, 542.97batch/s, loss=0.854]\n"
     ]
    },
    {
     "name": "stdout",
     "output_type": "stream",
     "text": [
      "Epoch 6/40\n"
     ]
    },
    {
     "name": "stderr",
     "output_type": "stream",
     "text": [
      "Train: 100%|██████████| 800/800 [00:03<00:00, 222.87batch/s, loss=2.66e+6]\n",
      "Eval: 100%|██████████| 105/105 [00:00<00:00, 518.60batch/s, loss=0.645]  \n"
     ]
    },
    {
     "name": "stdout",
     "output_type": "stream",
     "text": [
      "Epoch 7/40\n"
     ]
    },
    {
     "name": "stderr",
     "output_type": "stream",
     "text": [
      "Train: 100%|██████████| 800/800 [00:03<00:00, 225.18batch/s, loss=10.3]   \n",
      "Eval: 100%|██████████| 105/105 [00:00<00:00, 525.23batch/s, loss=0.803]\n"
     ]
    },
    {
     "name": "stdout",
     "output_type": "stream",
     "text": [
      "Epoch 8/40\n"
     ]
    },
    {
     "name": "stderr",
     "output_type": "stream",
     "text": [
      "Train: 100%|██████████| 800/800 [00:03<00:00, 224.81batch/s, loss=83.4]   \n",
      "Eval: 100%|██████████| 105/105 [00:00<00:00, 524.85batch/s, loss=2.07]   \n"
     ]
    },
    {
     "name": "stdout",
     "output_type": "stream",
     "text": [
      "Epoch 9/40\n"
     ]
    },
    {
     "name": "stderr",
     "output_type": "stream",
     "text": [
      "Train: 100%|██████████| 800/800 [00:03<00:00, 225.78batch/s, loss=8.89]   \n",
      "Eval: 100%|██████████| 105/105 [00:00<00:00, 524.57batch/s, loss=0.626]\n"
     ]
    },
    {
     "name": "stdout",
     "output_type": "stream",
     "text": [
      "Epoch 10/40\n"
     ]
    },
    {
     "name": "stderr",
     "output_type": "stream",
     "text": [
      "Train: 100%|██████████| 800/800 [00:03<00:00, 225.29batch/s, loss=5.92]   \n",
      "Eval: 100%|██████████| 105/105 [00:00<00:00, 510.97batch/s, loss=0.843]\n"
     ]
    },
    {
     "name": "stdout",
     "output_type": "stream",
     "text": [
      "Epoch 11/40\n"
     ]
    },
    {
     "name": "stderr",
     "output_type": "stream",
     "text": [
      "Train: 100%|██████████| 800/800 [00:03<00:00, 221.86batch/s, loss=6.24]   \n",
      "Eval: 100%|██████████| 105/105 [00:00<00:00, 524.81batch/s, loss=0.713]\n"
     ]
    },
    {
     "name": "stdout",
     "output_type": "stream",
     "text": [
      "Epoch 12/40\n"
     ]
    },
    {
     "name": "stderr",
     "output_type": "stream",
     "text": [
      "Train: 100%|██████████| 800/800 [00:03<00:00, 223.30batch/s, loss=5.9]    \n",
      "Eval: 100%|██████████| 105/105 [00:00<00:00, 525.55batch/s, loss=0.808]\n"
     ]
    },
    {
     "name": "stdout",
     "output_type": "stream",
     "text": [
      "Epoch 13/40\n"
     ]
    },
    {
     "name": "stderr",
     "output_type": "stream",
     "text": [
      "Train: 100%|██████████| 800/800 [00:03<00:00, 220.02batch/s, loss=2.47e+5]\n",
      "Eval: 100%|██████████| 105/105 [00:00<00:00, 523.36batch/s, loss=0.695]  \n"
     ]
    },
    {
     "name": "stdout",
     "output_type": "stream",
     "text": [
      "Epoch 14/40\n"
     ]
    },
    {
     "name": "stderr",
     "output_type": "stream",
     "text": [
      "Train: 100%|██████████| 800/800 [00:03<00:00, 222.69batch/s, loss=37.4]   \n",
      "Eval: 100%|██████████| 105/105 [00:00<00:00, 518.85batch/s, loss=1.41]\n"
     ]
    },
    {
     "name": "stdout",
     "output_type": "stream",
     "text": [
      "Epoch 15/40\n"
     ]
    },
    {
     "name": "stderr",
     "output_type": "stream",
     "text": [
      "Train: 100%|██████████| 800/800 [00:03<00:00, 218.16batch/s, loss=18.5]   \n",
      "Eval: 100%|██████████| 105/105 [00:00<00:00, 508.62batch/s, loss=0.682]\n"
     ]
    },
    {
     "name": "stdout",
     "output_type": "stream",
     "text": [
      "Epoch 16/40\n"
     ]
    },
    {
     "name": "stderr",
     "output_type": "stream",
     "text": [
      "Train: 100%|██████████| 800/800 [00:03<00:00, 222.93batch/s, loss=1.71e+3]\n",
      "Eval: 100%|██████████| 105/105 [00:00<00:00, 512.64batch/s, loss=0.653]  \n"
     ]
    },
    {
     "name": "stdout",
     "output_type": "stream",
     "text": [
      "Epoch 17/40\n"
     ]
    },
    {
     "name": "stderr",
     "output_type": "stream",
     "text": [
      "Train: 100%|██████████| 800/800 [00:03<00:00, 219.08batch/s, loss=8.92]  \n",
      "Eval: 100%|██████████| 105/105 [00:00<00:00, 527.61batch/s, loss=0.978]\n"
     ]
    },
    {
     "name": "stdout",
     "output_type": "stream",
     "text": [
      "Epoch 18/40\n"
     ]
    },
    {
     "name": "stderr",
     "output_type": "stream",
     "text": [
      "Train: 100%|██████████| 800/800 [00:03<00:00, 222.20batch/s, loss=6.95]   \n",
      "Eval: 100%|██████████| 105/105 [00:00<00:00, 521.47batch/s, loss=0.956]\n"
     ]
    },
    {
     "name": "stdout",
     "output_type": "stream",
     "text": [
      "Epoch 19/40\n"
     ]
    },
    {
     "name": "stderr",
     "output_type": "stream",
     "text": [
      "Train: 100%|██████████| 800/800 [00:03<00:00, 218.44batch/s, loss=12.3]   \n",
      "Eval: 100%|██████████| 105/105 [00:00<00:00, 533.57batch/s, loss=3.1] \n"
     ]
    },
    {
     "name": "stdout",
     "output_type": "stream",
     "text": [
      "Epoch 20/40\n"
     ]
    },
    {
     "name": "stderr",
     "output_type": "stream",
     "text": [
      "Train: 100%|██████████| 800/800 [00:03<00:00, 225.59batch/s, loss=2.95]\n",
      "Eval: 100%|██████████| 105/105 [00:00<00:00, 535.20batch/s, loss=1.12]\n"
     ]
    },
    {
     "name": "stdout",
     "output_type": "stream",
     "text": [
      "Epoch 21/40\n"
     ]
    },
    {
     "name": "stderr",
     "output_type": "stream",
     "text": [
      "Train: 100%|██████████| 800/800 [00:03<00:00, 220.77batch/s, loss=3.76]\n",
      "Eval: 100%|██████████| 105/105 [00:00<00:00, 539.11batch/s, loss=1.07]\n"
     ]
    },
    {
     "name": "stdout",
     "output_type": "stream",
     "text": [
      "Epoch 22/40\n"
     ]
    },
    {
     "name": "stderr",
     "output_type": "stream",
     "text": [
      "Train: 100%|██████████| 800/800 [00:03<00:00, 215.48batch/s, loss=3.21]\n",
      "Eval: 100%|██████████| 105/105 [00:00<00:00, 512.98batch/s, loss=0.677]\n"
     ]
    },
    {
     "name": "stdout",
     "output_type": "stream",
     "text": [
      "Epoch 23/40\n"
     ]
    },
    {
     "name": "stderr",
     "output_type": "stream",
     "text": [
      "Train: 100%|██████████| 800/800 [00:03<00:00, 217.11batch/s, loss=8.74]\n",
      "Eval: 100%|██████████| 105/105 [00:00<00:00, 449.91batch/s, loss=5.07]\n"
     ]
    },
    {
     "name": "stdout",
     "output_type": "stream",
     "text": [
      "Epoch 24/40\n"
     ]
    },
    {
     "name": "stderr",
     "output_type": "stream",
     "text": [
      "Train: 100%|██████████| 800/800 [00:03<00:00, 215.19batch/s, loss=3.87]\n",
      "Eval: 100%|██████████| 105/105 [00:00<00:00, 508.84batch/s, loss=1.2] \n"
     ]
    },
    {
     "name": "stdout",
     "output_type": "stream",
     "text": [
      "Epoch 25/40\n"
     ]
    },
    {
     "name": "stderr",
     "output_type": "stream",
     "text": [
      "Train: 100%|██████████| 800/800 [00:03<00:00, 219.63batch/s, loss=2.39]\n",
      "Eval: 100%|██████████| 105/105 [00:00<00:00, 514.37batch/s, loss=0.86]\n"
     ]
    },
    {
     "name": "stdout",
     "output_type": "stream",
     "text": [
      "Epoch 26/40\n"
     ]
    },
    {
     "name": "stderr",
     "output_type": "stream",
     "text": [
      "Train: 100%|██████████| 800/800 [00:03<00:00, 217.97batch/s, loss=4.51]   \n",
      "Eval: 100%|██████████| 105/105 [00:00<00:00, 523.86batch/s, loss=1.27]\n"
     ]
    },
    {
     "name": "stdout",
     "output_type": "stream",
     "text": [
      "Epoch 27/40\n"
     ]
    },
    {
     "name": "stderr",
     "output_type": "stream",
     "text": [
      "Train: 100%|██████████| 800/800 [00:03<00:00, 215.74batch/s, loss=2.3] \n",
      "Eval: 100%|██████████| 105/105 [00:00<00:00, 523.33batch/s, loss=1]   \n"
     ]
    },
    {
     "name": "stdout",
     "output_type": "stream",
     "text": [
      "Epoch 28/40\n"
     ]
    },
    {
     "name": "stderr",
     "output_type": "stream",
     "text": [
      "Train: 100%|██████████| 800/800 [00:03<00:00, 218.40batch/s, loss=3.96]\n",
      "Eval: 100%|██████████| 105/105 [00:00<00:00, 520.77batch/s, loss=0.693]\n"
     ]
    },
    {
     "name": "stdout",
     "output_type": "stream",
     "text": [
      "Epoch 29/40\n"
     ]
    },
    {
     "name": "stderr",
     "output_type": "stream",
     "text": [
      "Train: 100%|██████████| 800/800 [00:03<00:00, 217.14batch/s, loss=2.94]\n",
      "Eval: 100%|██████████| 105/105 [00:00<00:00, 514.47batch/s, loss=0.76]\n"
     ]
    },
    {
     "name": "stdout",
     "output_type": "stream",
     "text": [
      "Epoch 30/40\n"
     ]
    },
    {
     "name": "stderr",
     "output_type": "stream",
     "text": [
      "Train: 100%|██████████| 800/800 [00:03<00:00, 215.28batch/s, loss=3.88]\n",
      "Eval: 100%|██████████| 105/105 [00:00<00:00, 511.71batch/s, loss=0.617]\n"
     ]
    },
    {
     "name": "stdout",
     "output_type": "stream",
     "text": [
      "Epoch 31/40\n"
     ]
    },
    {
     "name": "stderr",
     "output_type": "stream",
     "text": [
      "Train: 100%|██████████| 800/800 [00:03<00:00, 214.94batch/s, loss=4.57]\n",
      "Eval: 100%|██████████| 105/105 [00:00<00:00, 527.00batch/s, loss=0.86]\n"
     ]
    },
    {
     "name": "stdout",
     "output_type": "stream",
     "text": [
      "Epoch 32/40\n"
     ]
    },
    {
     "name": "stderr",
     "output_type": "stream",
     "text": [
      "Train: 100%|██████████| 800/800 [00:03<00:00, 219.86batch/s, loss=3.88]   \n",
      "Eval: 100%|██████████| 105/105 [00:00<00:00, 504.43batch/s, loss=0.744]\n"
     ]
    },
    {
     "name": "stdout",
     "output_type": "stream",
     "text": [
      "Epoch 33/40\n"
     ]
    },
    {
     "name": "stderr",
     "output_type": "stream",
     "text": [
      "Train: 100%|██████████| 800/800 [00:03<00:00, 215.71batch/s, loss=3.52]\n",
      "Eval: 100%|██████████| 105/105 [00:00<00:00, 525.97batch/s, loss=0.656]\n"
     ]
    },
    {
     "name": "stdout",
     "output_type": "stream",
     "text": [
      "Epoch 34/40\n"
     ]
    },
    {
     "name": "stderr",
     "output_type": "stream",
     "text": [
      "Train: 100%|██████████| 800/800 [00:03<00:00, 216.89batch/s, loss=3.66]\n",
      "Eval: 100%|██████████| 105/105 [00:00<00:00, 500.96batch/s, loss=0.571]\n"
     ]
    },
    {
     "name": "stdout",
     "output_type": "stream",
     "text": [
      "Epoch 35/40\n"
     ]
    },
    {
     "name": "stderr",
     "output_type": "stream",
     "text": [
      "Train: 100%|██████████| 800/800 [00:03<00:00, 216.67batch/s, loss=2.03]\n",
      "Eval: 100%|██████████| 105/105 [00:00<00:00, 513.78batch/s, loss=0.951]\n"
     ]
    },
    {
     "name": "stdout",
     "output_type": "stream",
     "text": [
      "Epoch 36/40\n"
     ]
    },
    {
     "name": "stderr",
     "output_type": "stream",
     "text": [
      "Train: 100%|██████████| 800/800 [00:03<00:00, 217.92batch/s, loss=5.08]\n",
      "Eval: 100%|██████████| 105/105 [00:00<00:00, 526.46batch/s, loss=0.673]\n"
     ]
    },
    {
     "name": "stdout",
     "output_type": "stream",
     "text": [
      "Epoch 37/40\n"
     ]
    },
    {
     "name": "stderr",
     "output_type": "stream",
     "text": [
      "Train: 100%|██████████| 800/800 [00:03<00:00, 212.49batch/s, loss=2.17]\n",
      "Eval: 100%|██████████| 105/105 [00:00<00:00, 516.26batch/s, loss=0.554]\n"
     ]
    },
    {
     "name": "stdout",
     "output_type": "stream",
     "text": [
      "Epoch 38/40\n"
     ]
    },
    {
     "name": "stderr",
     "output_type": "stream",
     "text": [
      "Train: 100%|██████████| 800/800 [00:03<00:00, 218.56batch/s, loss=3.71]   \n",
      "Eval: 100%|██████████| 105/105 [00:00<00:00, 518.71batch/s, loss=0.675]\n"
     ]
    },
    {
     "name": "stdout",
     "output_type": "stream",
     "text": [
      "Epoch 39/40\n"
     ]
    },
    {
     "name": "stderr",
     "output_type": "stream",
     "text": [
      "Train: 100%|██████████| 800/800 [00:03<00:00, 214.94batch/s, loss=1.9] \n",
      "Eval: 100%|██████████| 105/105 [00:00<00:00, 517.78batch/s, loss=0.679]\n"
     ]
    },
    {
     "name": "stdout",
     "output_type": "stream",
     "text": [
      "Epoch 40/40\n"
     ]
    },
    {
     "name": "stderr",
     "output_type": "stream",
     "text": [
      "Train: 100%|██████████| 800/800 [00:03<00:00, 218.89batch/s, loss=4.18] \n",
      "Eval: 100%|██████████| 105/105 [00:00<00:00, 508.19batch/s, loss=0.806]\n"
     ]
    }
   ],
   "source": [
    "batchsize = 50\n",
    "n_feature = D\n",
    "output_class = 1\n",
    "n_hidden = 48\n",
    "trainloader = torch.utils.data.DataLoader(trainset, batch_size=batchsize, shuffle=True)\n",
    "valloader = torch.utils.data.DataLoader(valset, batch_size=batchsize, shuffle=False)\n",
    "testloader = torch.utils.data.DataLoader(test_dataset, batch_size=batchsize, shuffle=False)\n",
    "\n",
    "model = MLP(n_feature, output_class, n_hidden).to(device)\n",
    "criterion = nn.MSELoss()\n",
    "optimizer = optim.Adam(model.parameters(), lr=0.002)\n",
    "\n",
    "n_epoch = 40\n",
    "best_acc = -1\n",
    "train_loss_history = []; train_acc_history = []\n",
    "val_loss_history = []; val_acc_history = []\n",
    "for epoch in range(n_epoch):\n",
    "    print(f\"Epoch {epoch+1}/{n_epoch}\")\n",
    "    train_loss = train(model, trainloader, criterion, optimizer, device)\n",
    "    val_loss    = validate(model, valloader, criterion, device)\n",
    "\n",
    "    train_loss_history.append(train_loss)#; train_acc_history.append(train_acc)\n",
    "    val_loss_history.append(val_loss)#; val_acc_history.append(val_acc)"
   ]
  },
  {
   "cell_type": "code",
   "execution_count": 71,
   "metadata": {},
   "outputs": [
    {
     "data": {
      "image/png": "[encoded data removed]",
      "text/plain": [
       "<Figure size 640x480 with 1 Axes>"
      ]
     },
     "metadata": {},
     "output_type": "display_data"
    }
   ],
   "source": [
    "import matplotlib.pyplot as plt\n",
    "\n",
    "plt.plot(train_loss_history, label='train')\n",
    "plt.plot(val_loss_history, label='val')\n",
    "plt.legend()\n",
    "plt.xlabel('Epoch')\n",
    "plt.ylabel('Loss')\n",
    "plt.show()"
   ]
  },
  {
   "cell_type": "code",
   "execution_count": null,
   "metadata": {},
   "outputs": [],
   "source": []
  }
 ],
 "metadata": {
  "kernelspec": {
   "display_name": "base",
   "language": "python",
   "name": "python3"
  },
  "language_info": {
   "codemirror_mode": {
    "name": "ipython",
    "version": 3
   },
   "file_extension": ".py",
   "mimetype": "text/x-python",
   "name": "python",
   "nbconvert_exporter": "python",
   "pygments_lexer": "ipython3",
   "version": "3.10.9"
  },
  "orig_nbformat": 4
 },
 "nbformat": 4,
 "nbformat_minor": 2
}
